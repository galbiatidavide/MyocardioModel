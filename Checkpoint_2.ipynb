{
  "cells": [
    {
      "cell_type": "markdown",
      "metadata": {
        "id": "5Z55Vlz29Z34"
      },
      "source": [
        "# Checkpoint 2\n",
        "\n",
        "Implement here your algorithm to estimate the unknown parameters (fiber angle, anisotropy ratio and starting point position) from timings recorded in the 20 electrodes of the mapping catheter.\n",
        "\n",
        "The algorithm should output the following information:\n",
        "- your estimates of the fiber angle, anisotropy ratio and starting point position\n"
      ]
    },
    {
      "cell_type": "code",
      "execution_count": null,
      "metadata": {
        "id": "hvadgjCj9Z4A"
      },
      "outputs": [],
      "source": [
        "from functions_CP2 import *\n"
      ]
    },
    {
      "cell_type": "code",
      "execution_count": null,
      "metadata": {
        "id": "ob8ubNJD9Z4B"
      },
      "outputs": [],
      "source": [
        "# loading of the dataset\n",
        "CP2data = np.load(\"CP2data.npz\")\n",
        "CP2data = CP2data['arr_0']"
      ]
    },
    {
      "cell_type": "code",
      "execution_count": null,
      "metadata": {
        "id": "O1dff9jX9Z4D"
      },
      "outputs": [],
      "source": [
        "# # loading of the estimate\n",
        "CP2estimate = np.load(\"CP2estimate.npz\")\n",
        "CP2estimate = CP2estimate['arr_0']"
      ]
    },
    {
      "cell_type": "code",
      "execution_count": null,
      "metadata": {
        "id": "4LUYejUM9Z4C"
      },
      "outputs": [],
      "source": [
        "ind_disp = 2\n",
        "x_meas = CP2data[ind_disp][0]\n",
        "y_meas = CP2data[ind_disp][1]\n",
        "t_meas = CP2data[ind_disp][2]"
      ]
    },
    {
      "cell_type": "markdown",
      "metadata": {
        "id": "so3dXemt9Z4E"
      },
      "source": [
        "# Function\n",
        "\n",
        "Implemenatation of the algorithm presented in :\n",
        "\n",
        "Sermesant, Maxime, et al. \"An anisotropic multi-front fast marching method for real-time simulation of cardiac electrophysiology.\" Functional Imaging and Modeling of the Heart: 4th International Conference, FIHM 2007, Salt Lake City, UT, USA, June 7-9, 2007. Proceedings 4. Springer Berlin Heidelberg, 2007."
      ]
    },
    {
      "cell_type": "code",
      "execution_count": null,
      "metadata": {
        "id": "pQMqz-OBTAqJ"
      },
      "outputs": [],
      "source": [
        "# # # load della mappatura upscaled dello spazio dei parametri\n",
        "# import pickle\n",
        "\n",
        "# with open('/Users/Giovanni/OneDrive/Documenti/polimi/magistrale/secondo_anno__secondo_semestre/sctamm/upscaled_dataset.pkl', 'rb') as file:\n",
        "#     upscaled_dataset = pickle.load(file)\n"
      ]
    },
    {
      "cell_type": "markdown",
      "metadata": {
        "id": "YtqX0tvZgdhj"
      },
      "source": [
        "DEFINITION AND TRAINING DELLA NN"
      ]
    },
    {
      "cell_type": "code",
      "execution_count": null,
      "metadata": {
        "id": "b2n_hkcnQTbA"
      },
      "outputs": [],
      "source": [
        "# # num_elem = numero di mappe, num_points = numero di punti campionati sulla singola mappa\n",
        "# num_elem = 1000\n",
        "# num_points = 100\n",
        "# X_train, Y_train = create_training_set(num_elem, num_points)\n",
        "\n",
        "# from sklearn.preprocessing import MinMaxScaler\n",
        "\n",
        "# # Define the scaler with the global min and max values\n",
        "# scaler = MinMaxScaler(feature_range=(0, 1))\n",
        "\n",
        "# mu_1_min, mu_1_max = -np.pi/10, np.pi/10\n",
        "# mu_2_min, mu_2_max = 1, 9\n",
        "# mu_3_min, mu_3_max = -1.5, 1.5\n",
        "# x_min, x_max = -1.5, 1.5\n",
        "# y_min, y_max = -1.5, 1.5\n",
        "\n",
        "# bounds = np.array([\n",
        "#     [mu_1_min, mu_1_max],\n",
        "#     [mu_2_min, mu_2_max],\n",
        "#     [mu_3_min, mu_3_max],\n",
        "#     [x_min, x_max],\n",
        "#     [y_min, y_max]\n",
        "# ])\n",
        "\n",
        "# # Fit the scaler on the bounds and transform X_train\n",
        "# scaler.fit(bounds.T)  # Transpose bounds to fit the scaler's expected shape\n",
        "# X_train_normalized = scaler.transform(X_train)\n"
      ]
    },
    {
      "cell_type": "code",
      "execution_count": null,
      "metadata": {
        "id": "7dbWJj10mQ3m"
      },
      "outputs": [],
      "source": [
        "# import tensorflow as tf\n",
        "# from tensorflow.keras.models import Sequential\n",
        "# from tensorflow.keras.layers import Dense\n",
        "\n",
        "# # Define the neural network model\n",
        "# model = Sequential([\n",
        "#     # Input layer with 5 inputs: mu_1, mu_2, mu_3, x, y\n",
        "#     Dense(64, activation='relu', input_shape=(5,)),\n",
        "#     # Additional hidden layers\n",
        "#     Dense(128, activation='relu'),\n",
        "#     Dense(64, activation='relu'),\n",
        "#     # Output layer with 1 output: t\n",
        "#     # Using 'relu' to ensure non-negative outputs, but consider 'linear' if negative values are possible and handle post-processing\n",
        "#     Dense(1, activation='relu')\n",
        "# ])\n",
        "\n",
        "# # Compile the model\n",
        "# model.compile(optimizer='adam', loss='mse', metrics=['mae'])\n",
        "\n",
        "# # Summary of the model\n",
        "# model.summary()\n",
        "\n",
        "# # Assuming X_train and Y_train are already defined and properly normalized\n",
        "# # Train the model\n",
        "# history = model.fit(X_train_normalized, Y_train, epochs=100, batch_size=32, validation_split=0, verbose=2)\n",
        "\n",
        "# model.save(\"/Users/Giovanni/OneDrive/Documenti/polimi/magistrale/secondo_anno__secondo_semestre/sctamm/model_NN_new_training_2.keras\")\n"
      ]
    },
    {
      "cell_type": "code",
      "execution_count": null,
      "metadata": {
        "id": "LVLB9LArRdoW"
      },
      "outputs": [],
      "source": [
        "# # validation of this new NN\n",
        "# X, Y = np.meshgrid(np.linspace(-1.5,1.5,151), np.linspace(-1.5,1.5,151))\n",
        "\n",
        "# x0 = 1.5\n",
        "\n",
        "# theta_fiber = np.random.uniform(-np.pi/10,np.pi/10)\n",
        "# a_ratio = np.random.uniform(1,9)\n",
        "# y0 = np.random.uniform(-1.5,1.5)\n",
        "# print(\"theta_fiber = \", theta_fiber)\n",
        "# print(\"a_ratio = \", a_ratio)\n",
        "# print(\"y0 = \", y0)\n",
        "\n",
        "# theta0 = np.pi/2 - theta_fiber\n",
        "# a = np.array([np.cos(theta0), np.sin(theta0)]).T\n",
        "# b = np.array([np.cos(theta0-np.pi/2), np.sin(theta0-np.pi/2)]).T\n",
        "\n",
        "# D = ( (1/a_ratio)*np.tensordot( a, a,  axes=0) + np.tensordot( b, b,  axes=0)  )\n",
        "# print(D)\n",
        "\n",
        "# D_inv = np.linalg.inv(D)\n",
        "# sigma_11 = D_inv[0][0]\n",
        "# sigma_12 = D_inv[0][1]\n",
        "# sigma_21 = D_inv[1][0]\n",
        "# sigma_22 = D_inv[1][1]\n",
        "\n",
        "# activation_time = anysotropic_FMM( x0 , y0 , X, Y, sigma_11,sigma_12, sigma_21, sigma_22 )\n",
        "\n",
        "# plt.contour(X, Y, activation_time , 10)\n",
        "# #plt.scatter( x_meas,  y_meas, c=t_meas, vmin= 0, vmax=np.max(activation_time) )\n",
        "# plt.gca().set_aspect(1)\n",
        "# plt.colorbar()"
      ]
    },
    {
      "cell_type": "code",
      "execution_count": null,
      "metadata": {
        "id": "f3SNHtl5TQ0-"
      },
      "outputs": [],
      "source": [
        "# k = 300\n",
        "# time_prediction = np.zeros(k)\n",
        "# x_vec = np.zeros(k)\n",
        "# y_vec = np.zeros(k)\n",
        "# new_input = np.zeros((1,5))\n",
        "# new_input[0,0] = theta_fiber\n",
        "# new_input[0,1] = a_ratio\n",
        "# new_input[0,2] = y0\n",
        "# for i in range(k):\n",
        "#   x_vec[i] = np.random.uniform(-1.5,1.5)\n",
        "#   y_vec[i] = np.random.uniform(-1.5,1.5)\n",
        "#   new_input[0,3] = x_vec[i]\n",
        "#   new_input[0,4] = y_vec[i]\n",
        "#   prediction = model.predict(scaler.transform(new_input), verbose=0)[0]\n",
        "#   time_prediction[i] = prediction[0]\n",
        "#   #print(\"Iter: \", i, \"/\", k)\n",
        "\n",
        "# plt.figure(1)\n",
        "# plt.scatter( x_vec,  y_vec, c=time_prediction, vmin= 0, vmax=np.max(time_prediction) )\n",
        "# plt.gca().set_aspect(1)\n",
        "# plt.colorbar()"
      ]
    },
    {
      "cell_type": "markdown",
      "metadata": {
        "id": "bI72h6NbsmPQ"
      },
      "source": [
        "Check del training set"
      ]
    },
    {
      "cell_type": "code",
      "execution_count": null,
      "metadata": {
        "id": "sgCj63tQTXE6"
      },
      "outputs": [],
      "source": [
        "# # Controllo sul training set\n",
        "# # num_elem = numero di mappe, num_points = numero di punti campionati sulla singola mappa\n",
        "# num_elem = 1000\n",
        "# num_points = 100\n",
        "# X_train, Y_train = create_training_set(num_elem, num_points)\n",
        "\n",
        "# plt.figure(1)\n",
        "# plt.scatter( X_train[:,3],  X_train[:,4], c=Y_train, vmin= 0, vmax=np.max(Y_train) )\n",
        "# plt.gca().set_aspect(1)\n",
        "# plt.colorbar()"
      ]
    },
    {
      "cell_type": "code",
      "execution_count": null,
      "metadata": {
        "id": "MjIu-qSZbXef"
      },
      "outputs": [],
      "source": [
        "# X, Y = np.meshgrid(np.linspace(-1.5,1.5,151), np.linspace(-1.5,1.5,151))\n",
        "\n",
        "# x0 = 1.5\n",
        "\n",
        "# theta_fiber = X_train[0,0]\n",
        "# a_ratio  = X_train[0,1]\n",
        "# y0 = X_train[0,2]\n",
        "\n",
        "# theta0 = np.pi/2 - theta_fiber\n",
        "# a = np.array([np.cos(theta0), np.sin(theta0)]).T\n",
        "# b = np.array([np.cos(theta0-np.pi/2), np.sin(theta0-np.pi/2)]).T\n",
        "\n",
        "# D = ( (1/a_ratio)*np.tensordot( a, a,  axes=0) + np.tensordot( b, b,  axes=0)  )\n",
        "# print(D)\n",
        "\n",
        "# D_inv = np.linalg.inv(D)\n",
        "# sigma_11 = D_inv[0][0]\n",
        "# sigma_12 = D_inv[0][1]\n",
        "# sigma_21 = D_inv[1][0]\n",
        "# sigma_22 = D_inv[1][1]\n",
        "\n",
        "# activation_time = anysotropic_FMM( x0 , y0 , X, Y, sigma_11,sigma_12, sigma_21, sigma_22 )"
      ]
    },
    {
      "cell_type": "code",
      "execution_count": null,
      "metadata": {
        "id": "TRLvPwtrbZiB"
      },
      "outputs": [],
      "source": [
        "# plt.contour(X, Y, activation_time , 10)\n",
        "# #plt.scatter( x_meas,  y_meas, c=t_meas, vmin= 0, vmax=np.max(activation_time) )\n",
        "# plt.gca().set_aspect(1)\n",
        "# plt.colorbar()"
      ]
    },
    {
      "cell_type": "code",
      "execution_count": null,
      "metadata": {
        "colab": {
          "base_uri": "https://localhost:8080/",
          "height": 74
        },
        "id": "6h-mU_bstdP9",
        "outputId": "f37e38bd-834a-4c05-b82f-737de15ecf87"
      },
      "outputs": [],
      "source": [
        "# # define the scaler for the input variables in the NN\n",
        "\n",
        "# scaler = MinMaxScaler(feature_range=(0, 1))\n",
        "\n",
        "# mu_1_min, mu_1_max = -np.pi/10, np.pi/10\n",
        "# mu_2_min, mu_2_max = 1, 9\n",
        "# mu_3_min, mu_3_max = -1.5, 1.5\n",
        "# x_min, x_max = -1.5, 1.5\n",
        "# y_min, y_max = -1.5, 1.5\n",
        "\n",
        "# bounds = np.array([\n",
        "#     [mu_1_min, mu_1_max],\n",
        "#     [mu_2_min, mu_2_max],\n",
        "#     [mu_3_min, mu_3_max],\n",
        "#     [x_min, x_max],\n",
        "#     [y_min, y_max]\n",
        "# ])\n",
        "\n",
        "# scaler.fit(bounds.T)  # Transpose bounds to fit the scaler's expected shape"
      ]
    },
    {
      "cell_type": "code",
      "execution_count": null,
      "metadata": {},
      "outputs": [],
      "source": [
        "\"\"\" def grid_search(x, y, t, discr, previous_discr, refined, theta_fiber, a_ratio, y0):\n",
        "    if refined:\n",
        "        grid = refined_grid_creation(theta_fiber, a_ratio, y0, discr, previous_discr)\n",
        "    else:\n",
        "        grid = grid_creation(discr)\n",
        "\n",
        "    # initial guess for parameters and error\n",
        "    mu = (theta_fiber, a_ratio, y0)\n",
        "    err = error_function(x, y, t, mu)\n",
        "\n",
        "    # Prepare arguments for parallel execution\n",
        "    args = [(x, y, t, g) for g in grid]\n",
        "\n",
        "    # Use multiprocessing Pool to parallelize the error computation\n",
        "    results = []\n",
        "    for a in args:\n",
        "    \tresults.append(compute_error(a))\n",
        "\n",
        "    # Find the parameters with the lowest error\n",
        "    for g, err_g in results:\n",
        "        if err_g < err:\n",
        "            mu = g\n",
        "            err = err_g\n",
        "\n",
        "    return mu \"\"\""
      ]
    },
    {
      "cell_type": "code",
      "execution_count": null,
      "metadata": {},
      "outputs": [],
      "source": [
        "import ray\n",
        "import numpy as np\n",
        "# Define the remote function to compute the error\n",
        "@ray.remote\n",
        "def compute_error(args):\n",
        "    x, y, t, g = args\n",
        "    err = error_function(x, y, t, g)\n",
        "    return g, err\n",
        "\n",
        "def grid_search(x, y, t, discr, previous_discr, refined, theta_fiber, a_ratio, y0):\n",
        "    if refined:\n",
        "        grid = refined_grid_creation(theta_fiber, a_ratio, y0, discr, previous_discr)\n",
        "    else:\n",
        "        grid = grid_creation(discr)\n",
        "\n",
        "    # initial guess for parameters and error\n",
        "    mu = (theta_fiber, a_ratio, y0)\n",
        "    err = error_function(x, y, t, mu)\n",
        "\n",
        "    # Prepare arguments for parallel execution\n",
        "    args = [(x, y, t, g) for g in grid]\n",
        "\n",
        "    # Use Ray to parallelize the error computation\n",
        "    futures = [compute_error.remote(a) for a in args]\n",
        "    results = ray.get(futures)\n",
        "\n",
        "    # Find the parameters with the lowest error\n",
        "    for g, err_g in results:\n",
        "        if err_g < err:\n",
        "            mu = g\n",
        "            err = err_g\n",
        "\n",
        "    return mu"
      ]
    },
    {
      "cell_type": "code",
      "execution_count": null,
      "metadata": {
        "colab": {
          "base_uri": "https://localhost:8080/"
        },
        "id": "0hruJsGY9QWT",
        "outputId": "edc75384-7e0c-46ed-affe-d42455668401"
      },
      "outputs": [],
      "source": [
        "# Grid search\n",
        "def checkpoint2_solution( x, y , t ):\n",
        "\n",
        "  # Initialize Ray\n",
        "  ray.init()\n",
        "\n",
        "  theta_fiber,a_ratio,y0 = 0,1,0\n",
        "  theta_fiber, a_ratio, y0 = grid_search(x,y,t,10,0,False,theta_fiber,a_ratio,y0)\n",
        "  theta_fiber, a_ratio, y0 = grid_search(x,y,t,7,10,True,theta_fiber,a_ratio,y0)\n",
        "  # Shut down Ray\n",
        "  ray.shutdown()\n",
        "  return theta_fiber, a_ratio, y0\n",
        "\n",
        "\n",
        "theta_fiber, a_ratio, y0 = checkpoint2_solution( x_meas, y_meas , t_meas )"
      ]
    },
    {
      "cell_type": "code",
      "execution_count": null,
      "metadata": {},
      "outputs": [],
      "source": [
        "\"\"\" errore_parametri = abs(theta_fiber-CP2estimate[ind_disp][0])/(np.pi/5) + abs(a_ratio-CP2estimate[ind_disp][1])/8 +abs(y0-CP2estimate[ind_disp][2])/3\n",
        "errore_parametri \"\"\""
      ]
    },
    {
      "cell_type": "code",
      "execution_count": null,
      "metadata": {
        "colab": {
          "base_uri": "https://localhost:8080/"
        },
        "id": "-nmurG9tzDxP",
        "outputId": "2dc5b5a0-5e53-4532-9fdd-2613c4371c12"
      },
      "outputs": [],
      "source": [
        "\"\"\" print(\"Predicted theta fiber: \",theta_fiber)\n",
        "print(\"Real theta fiber: \",CP2estimate[ind_disp][0])\n",
        "print(\"Predicted anisotropy ratio: \",a_ratio)\n",
        "print(\"Real anisotropy ratio: \",CP2estimate[ind_disp][1])\n",
        "print(\"Predicted starting point: \",y0)\n",
        "print(\"Real starting point: \",CP2estimate[ind_disp][2]) \"\"\""
      ]
    }
  ],
  "metadata": {
    "colab": {
      "provenance": []
    },
    "kernelspec": {
      "display_name": "teachenv",
      "language": "python",
      "name": "python3"
    },
    "language_info": {
      "codemirror_mode": {
        "name": "ipython",
        "version": 3
      },
      "file_extension": ".py",
      "mimetype": "text/x-python",
      "name": "python",
      "nbconvert_exporter": "python",
      "pygments_lexer": "ipython3",
      "version": "3.9.12"
    }
  },
  "nbformat": 4,
  "nbformat_minor": 0
}
