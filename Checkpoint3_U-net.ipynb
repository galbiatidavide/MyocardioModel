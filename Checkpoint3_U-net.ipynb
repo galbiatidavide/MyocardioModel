{
 "cells": [
  {
   "cell_type": "markdown",
   "metadata": {},
   "source": [
    "# Checkpoint 3\n",
    "\n",
    "Implement here your algorithm to estimate the parametric field from timings recorded in the 20 electrodes of the mapping catheter. \n",
    "\n",
    "The algorithm should output the following information:\n",
    "- your estimates of parametric field\n"
   ]
  },
  {
   "cell_type": "code",
   "execution_count": 1,
   "metadata": {},
   "outputs": [],
   "source": [
    "# imports\n",
    "\n",
    "import numpy as np\n",
    "import matplotlib.pyplot as plt\n"
   ]
  },
  {
   "cell_type": "code",
   "execution_count": 2,
   "metadata": {},
   "outputs": [],
   "source": [
    "CP3data = np.load(\"CP3data.npz\")\n",
    "CP3data = CP3data['arr_0']"
   ]
  },
  {
   "cell_type": "markdown",
   "metadata": {},
   "source": [
    "## Autoencoder for compressed representation"
   ]
  },
  {
   "cell_type": "code",
   "execution_count": 3,
   "metadata": {},
   "outputs": [
    {
     "name": "stdout",
     "output_type": "stream",
     "text": [
      "WARNING:tensorflow:From C:\\Users\\aless\\AppData\\Local\\Temp\\ipykernel_1304\\1291841697.py:8: The name tf.logging.set_verbosity is deprecated. Please use tf.compat.v1.logging.set_verbosity instead.\n",
      "\n",
      "2.16.1\n"
     ]
    }
   ],
   "source": [
    "seed = 182374\n",
    "\n",
    "import tensorflow as tf\n",
    "from tensorflow import keras as tfk\n",
    "from tensorflow.keras import layers as tfkl\n",
    "tf.autograph.set_verbosity(0)\n",
    "#tf.get_logger().setLevel(logging.ERROR)\n",
    "tf.compat.v1.logging.set_verbosity(tf.compat.v1.logging.ERROR)\n",
    "tf.random.set_seed(seed)\n",
    "tf.compat.v1.set_random_seed(seed)\n",
    "print(tf.__version__)\n",
    "\n",
    "from sklearn.gaussian_process import GaussianProcessRegressor\n",
    "from sklearn.gaussian_process.kernels import Matern"
   ]
  },
  {
   "cell_type": "code",
   "execution_count": 4,
   "metadata": {},
   "outputs": [
    {
     "data": {
      "text/plain": [
       "(12937,)"
      ]
     },
     "execution_count": 4,
     "metadata": {},
     "output_type": "execute_result"
    }
   ],
   "source": [
    "CP3estimate = np.load(\"CP3field.npz\")\n",
    "CP3estimate = CP3estimate['arr_0']"
   ]
  },
  {
   "cell_type": "code",
   "execution_count": 5,
   "metadata": {},
   "outputs": [],
   "source": [
    "unet = tfk.models.load_model('U-net.keras')"
   ]
  },
  {
   "cell_type": "markdown",
   "metadata": {},
   "source": [
    "# signature of the function\n",
    "\n",
    "def checkpoint3_solution( x, y , t ):\n",
    "\n",
    "return speed_field\n",
    "\n"
   ]
  },
  {
   "cell_type": "code",
   "execution_count": 6,
   "metadata": {},
   "outputs": [
    {
     "name": "stdout",
     "output_type": "stream",
     "text": [
      "\u001b[1m1/1\u001b[0m \u001b[32m━━━━━━━━━━━━━━━━━━━━\u001b[0m\u001b[37m\u001b[0m \u001b[1m2s\u001b[0m 2s/step\n"
     ]
    }
   ],
   "source": [
    "X, Y = np.meshgrid(np.linspace(-1.5,1.5,151), np.linspace(-1.5,1.5,151))\n",
    "\n",
    "coord = np.vstack((X.flatten(), Y.flatten())).T\n",
    "\n",
    "#unet = tf.saved_model.load(\"U-net/\")\n",
    "\n",
    "padding = tf.constant([[0, 1], [0, 1]])\n",
    "\n",
    "max_tf = 0.06580105027569516\n",
    "max_sf = 99.9999999999573\n",
    "\n",
    "x_meas = CP3data[-1][0]\n",
    "y_meas = CP3data[-1][1]\n",
    "t_meas = CP3data[-1][2]\n",
    "\n",
    "def checkpoint3_solution( x, y , t ):\n",
    "    \n",
    "    x = np.array([x,y]).transpose()\n",
    "    y = np.array(t)\n",
    "\n",
    "    model = GaussianProcessRegressor(kernel=Matern(length_scale=53.6))\n",
    "    model.fit(x,y)\n",
    "\n",
    "    time_field = model.predict(coord).reshape(X.shape)/max_tf\n",
    "    time_field = tf.pad(tf.constant(time_field),padding,mode='SYMMETRIC')\n",
    "    time_field = tf.reshape(time_field, shape = (1,152,152,1))\n",
    "    #print(time_field.shape)\n",
    "    \n",
    "    speed_field = unet.predict(time_field).reshape((152,152))[:151,:151]\n",
    "    speed_field = speed_field/np.max(speed_field)*max_sf\n",
    "    \n",
    "    return speed_field\n",
    "\n",
    "speed_field = checkpoint3_solution( x_meas, y_meas , t_meas )"
   ]
  }
 ],
 "metadata": {
  "kernelspec": {
   "display_name": "teachenv",
   "language": "python",
   "name": "python3"
  },
  "language_info": {
   "codemirror_mode": {
    "name": "ipython",
    "version": 3
   },
   "file_extension": ".py",
   "mimetype": "text/x-python",
   "name": "python",
   "nbconvert_exporter": "python",
   "pygments_lexer": "ipython3",
   "version": "3.10.2"
  }
 },
 "nbformat": 4,
 "nbformat_minor": 2
}
